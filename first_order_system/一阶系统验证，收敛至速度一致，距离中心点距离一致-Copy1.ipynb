{
 "cells": [
  {
   "cell_type": "code",
   "execution_count": 1,
   "metadata": {},
   "outputs": [],
   "source": [
    "import numpy as np\n",
    "import math\n",
    "import matplotlib.pyplot as plt"
   ]
  },
  {
   "cell_type": "code",
   "execution_count": 2,
   "metadata": {},
   "outputs": [],
   "source": [
    "dt = 0.01\n",
    "A = [[0,1,1,0],\n",
    "     [1,0,0,1],\n",
    "     [1,0,0,0],\n",
    "     [0,1,0,0]]\n",
    "\n",
    "B = [1,0,0,0]\n",
    "lamda = [0.1729,0.6617,2.2091,3.9563]\n",
    "k = 1 / (4* 0.5 * (1-0.5*0.5)*lamda[0])\n",
    "class VehicleState:\n",
    "    def __init__(self, x=0.0, y=0.0, yaw=0.0, v=0.0):\n",
    "        self.x = x\n",
    "        self.v = v\n",
    "\n",
    "def update(state, a):\n",
    "    state.x = state.x + state.v * dt\n",
    "    state.v = state.v + a * dt\n",
    "    return state\n",
    "\n",
    "def update_follower(state,v):\n",
    "    state.v = v\n",
    "    state.x = state.x + state.v * dt\n",
    "    return state\n",
    "    \n",
    "def controller(leader,fol_1,fol_2,fol_3,fol_4,k):\n",
    "    v = leader.v\n",
    "    distance = 5 - leader.x\n",
    "    x = np.array([fol_1.x,fol_2.x,fol_3.x,fol_4.x])\n",
    "    # 计算距离目标的距离\n",
    "    x = 5-x\n",
    "    u = [0,0,0,0]\n",
    "    for i in range(0,4):\n",
    "        sigma = 0\n",
    "        for j in range(0,4):\n",
    "            a_ij = A[i][j] \n",
    "            b_i0 = B[i]\n",
    "            sigma = sigma +  a_ij * (x[i] - x[j]) + b_i0 * (x[i] -distance)\n",
    "        u[i] = (k) * sigma + v\n",
    "    return u\n"
   ]
  },
  {
   "cell_type": "code",
   "execution_count": 6,
   "metadata": {},
   "outputs": [
    {
     "data": {
      "text/plain": [
       "3.8557933294775406"
      ]
     },
     "execution_count": 6,
     "metadata": {},
     "output_type": "execute_result"
    }
   ],
   "source": [
    "k = 1 / (4* 0.5 * (1-0.5*0.5)*lamda[0])\n",
    "k"
   ]
  },
  {
   "cell_type": "code",
   "execution_count": 8,
   "metadata": {},
   "outputs": [],
   "source": [
    "k = 1 / (4* 0.5 * (1-0.5*0.5)*lamda[0]) +5\n",
    "\n",
    "i = 0\n",
    "time = 0\n",
    "T = 5 # 模拟时间\n",
    "t = [0.0]\n",
    "# 设置车辆的初始状态 leader\n",
    "leader = VehicleState(x=0, v=0.0)\n",
    "leader_x = [leader.x]\n",
    "leader_v = [leader.v]\n",
    "# 设置车辆的初始状态 follower\n",
    "follower_1 = VehicleState(x=13, v=0.0)\n",
    "follower_2 = VehicleState(x=10, v=0.0)\n",
    "follower_3 = VehicleState(x=-5, v=0.0)\n",
    "follower_4 = VehicleState(x=-10, v=0.0)\n",
    "follower = [[follower_1.x,follower_1.v,follower_2.x,follower_2.v,follower_3.x,follower_3.v,follower_4.x,follower_4.v]]\n",
    "#初始化加速度\n",
    "a = []\n",
    "for n in range(0,int(T/dt)+100):\n",
    "    if n<50:\n",
    "        a.append( 1 )\n",
    "    else:\n",
    "        a.append( 0 )\n",
    "#进行多轮迭代更新\n",
    "while T >= time :\n",
    "    \n",
    "    leader = update(leader,a[i])\n",
    "    v = controller(leader,follower_1,follower_2,follower_3,follower_4,k)\n",
    "\n",
    "    follower_1 = update_follower(follower_1,v[0])\n",
    "    follower_2 = update_follower(follower_2,v[1])\n",
    "    follower_3 = update_follower(follower_3,v[2])\n",
    "    follower_4 = update_follower(follower_4,v[3])\n",
    "\n",
    "    \n",
    "    leader_x.append(leader.x)\n",
    "    leader_v.append(leader.v)\n",
    "    follower.append([follower_1.x,follower_1.v,follower_2.x,follower_2.v,follower_3.x,follower_3.v,follower_4.x,follower_4.v])\n",
    "    t.append(time)   \n",
    "    time = time + dt\n",
    "    i = i + 1\n",
    "leader_x = np.array(leader_x)\n",
    "follower = np.array(follower)"
   ]
  },
  {
   "cell_type": "markdown",
   "metadata": {},
   "source": [
    "#### 画出位置变化"
   ]
  },
  {
   "cell_type": "code",
   "execution_count": 9,
   "metadata": {},
   "outputs": [
    {
     "data": {
      "text/plain": [
       "[<matplotlib.lines.Line2D at 0x1d4debc8>]"
      ]
     },
     "execution_count": 9,
     "metadata": {},
     "output_type": "execute_result"
    },
    {
     "data": {
      "image/png": "[encoded data removed]",
      "text/plain": [
       "<Figure size 720x432 with 1 Axes>"
      ]
     },
     "metadata": {
      "needs_background": "light"
     },
     "output_type": "display_data"
    }
   ],
   "source": [
    "plt.figure(figsize=(10,6))\n",
    "\n",
    "plt.plot(5-leader_x,\"-b\", label=\"trajectory\")\n",
    "plt.plot(5-follower[:,0])\n",
    "plt.plot(5-follower[:,2])\n",
    "plt.plot(5-follower[:,4],\"-b\", label=\"trajectory\")\n",
    "plt.plot(5-follower[:,6],\"-b\", label=\"trajectory\")\n"
   ]
  },
  {
   "cell_type": "markdown",
   "metadata": {},
   "source": [
    "#### 画出速度变化"
   ]
  },
  {
   "cell_type": "code",
   "execution_count": 5,
   "metadata": {
    "scrolled": true
   },
   "outputs": [
    {
     "data": {
      "text/plain": [
       "[<matplotlib.lines.Line2D at 0x1d2795c8>]"
      ]
     },
     "execution_count": 5,
     "metadata": {},
     "output_type": "execute_result"
    },
    {
     "data": {
      "image/png": "[encoded data removed]",
      "text/plain": [
       "<Figure size 432x288 with 1 Axes>"
      ]
     },
     "metadata": {
      "needs_background": "light"
     },
     "output_type": "display_data"
    }
   ],
   "source": [
    "# plt.plot(leader_v,\"-b\", label=\"trajectory\")\n",
    "# plt.plot(follower[:,1], label=\"trajectory\")\n",
    "plt.plot(follower[3:,3], label=\"trajectory\")\n",
    "# plt.plot(follower[:,5], label=\"trajectory\")\n",
    "plt.plot(follower[3:,7], label=\"trajectory\")"
   ]
  },
  {
   "cell_type": "code",
   "execution_count": null,
   "metadata": {},
   "outputs": [],
   "source": []
  }
 ],
 "metadata": {
  "kernelspec": {
   "display_name": "Python 2",
   "language": "python",
   "name": "python2"
  },
  "language_info": {
   "codemirror_mode": {
    "name": "ipython",
    "version": 2
   },
   "file_extension": ".py",
   "mimetype": "text/x-python",
   "name": "python",
   "nbconvert_exporter": "python",
   "pygments_lexer": "ipython2",
   "version": "2.7.18"
  }
 },
 "nbformat": 4,
 "nbformat_minor": 2
}
