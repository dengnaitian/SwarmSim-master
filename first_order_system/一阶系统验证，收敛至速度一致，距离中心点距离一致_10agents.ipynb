{
 "cells": [
  {
   "cell_type": "code",
   "execution_count": 1,
   "metadata": {},
   "outputs": [],
   "source": [
    "import numpy as np\n",
    "import math\n",
    "import matplotlib.pyplot as plt"
   ]
  },
  {
   "cell_type": "code",
   "execution_count": 2,
   "metadata": {},
   "outputs": [],
   "source": [
    "A = np.ones([10,10]) - np.identity(10)"
   ]
  },
  {
   "cell_type": "code",
   "execution_count": 3,
   "metadata": {},
   "outputs": [],
   "source": [
    "A = [   [0,1,0,0,0,0,0,0,1,1],\n",
    "        [1,0,1,0,0,0,0,0,0,0],\n",
    "        [0,1,0,1,0,0,0,0,0,0],\n",
    "        [0,0,1,0,1,0,0,0,0,0],\n",
    "        [0,0,0,1,0,1,0,0,0,0],\n",
    "        [0,0,0,0,1,0,1,0,0,0],\n",
    "        [0,0,0,0,0,1,0,1,0,0],\n",
    "        [0,0,0,0,0,0,1,0,1,0],\n",
    "        [1,0,0,0,0,0,0,1,0,1],\n",
    "        [1,0,0,0,0,0,0,0,1,0]]\n",
    "\n",
    "A = np.array(A)\n",
    "B = np.array([1,0,0,0,0,0,0,0,0,1])\n",
    "b = np.zeros([10,10])\n",
    "b[0][0] = 1\n",
    "b[9][9] = 1\n",
    "D = np.identity(10)\n",
    "for i in range(10):\n",
    "    D[i][i] = A.sum(axis=1)[i]\n",
    "L = D - A\n",
    "M =  L + b\n",
    "eig,eig_matrix = np.linalg.eig(M)\n",
    "k = 1 / (4* 0.5 * (1-0.5*0.5)*np.min(eig))"
   ]
  },
  {
   "cell_type": "code",
   "execution_count": 4,
   "metadata": {},
   "outputs": [],
   "source": [
    "eig,eig_matrix = np.linalg.eig(M)"
   ]
  },
  {
   "cell_type": "code",
   "execution_count": 5,
   "metadata": {},
   "outputs": [
    {
     "data": {
      "text/plain": [
       "array([[ 4., -1.,  0.,  0.,  0.,  0.,  0.,  0., -1., -1.],\n",
       "       [-1.,  2., -1.,  0.,  0.,  0.,  0.,  0.,  0.,  0.],\n",
       "       [ 0., -1.,  2., -1.,  0.,  0.,  0.,  0.,  0.,  0.],\n",
       "       [ 0.,  0., -1.,  2., -1.,  0.,  0.,  0.,  0.,  0.],\n",
       "       [ 0.,  0.,  0., -1.,  2., -1.,  0.,  0.,  0.,  0.],\n",
       "       [ 0.,  0.,  0.,  0., -1.,  2., -1.,  0.,  0.,  0.],\n",
       "       [ 0.,  0.,  0.,  0.,  0., -1.,  2., -1.,  0.,  0.],\n",
       "       [ 0.,  0.,  0.,  0.,  0.,  0., -1.,  2., -1.,  0.],\n",
       "       [-1.,  0.,  0.,  0.,  0.,  0.,  0., -1.,  3., -1.],\n",
       "       [-1.,  0.,  0.,  0.,  0.,  0.,  0.,  0., -1.,  3.]])"
      ]
     },
     "execution_count": 5,
     "metadata": {},
     "output_type": "execute_result"
    }
   ],
   "source": [
    "M"
   ]
  },
  {
   "cell_type": "code",
   "execution_count": 6,
   "metadata": {},
   "outputs": [],
   "source": [
    "dt = 0.01\n",
    "A = [   [0,1,0,0,0,0,0,0,1,1],\n",
    "        [1,0,1,0,0,0,0,0,0,0],\n",
    "        [0,1,0,1,0,0,0,0,0,0],\n",
    "        [0,0,1,0,1,0,0,0,0,0],\n",
    "        [0,0,0,1,0,1,0,0,0,0],\n",
    "        [0,0,0,0,1,0,1,0,0,0],\n",
    "        [0,0,0,0,0,1,0,1,0,0],\n",
    "        [0,0,0,0,0,0,1,0,1,0],\n",
    "        [1,0,0,0,0,0,0,1,0,1],\n",
    "        [1,0,0,0,0,0,0,0,1,0]]\n",
    "\n",
    "A = np.array(A)\n",
    "B = np.array([1,0,0,0,0,0,0,0,0,1])\n",
    "b = np.zeros([10,10])\n",
    "b[0][0] = 1\n",
    "b[9][9] = 1\n",
    "D = np.identity(10)\n",
    "for i in range(10):\n",
    "    D[i][i] = A.sum(axis=1)[i]\n",
    "L = D - A\n",
    "M =  L + b\n",
    "eig,eig_matrix = np.linalg.eig(M)\n",
    "k = 1 / (4* 0.5 * (1-0.5*0.5)*np.min(eig))\n",
    "class VehicleState:\n",
    "    def __init__(self, x=0.0, y=0.0, yaw=0.0, v=0.0):\n",
    "        self.x = x\n",
    "        self.v = v\n",
    "\n",
    "def update(state, a):\n",
    "    state.x = state.x + state.v * dt\n",
    "    state.v = state.v + a * dt\n",
    "    return state\n",
    "\n",
    "\n",
    "def update_follower(followerList,v):\n",
    "    for i in range(0,10):\n",
    "        followerList[i].v = v[i]\n",
    "        followerList[i].x = followerList[i].x + followerList[i].v * dt\n",
    "    return followerList   \n",
    "\n",
    "\n",
    "def controller(leader,follower,k):\n",
    "    v = leader.v\n",
    "    x = [follower[i].x for i in range(10)]\n",
    "    u = [0,0,0,0,0,0,0,0,0,0]\n",
    "    for i in range(0,10):\n",
    "        sigma = 0\n",
    "        for j in range(0,10):\n",
    "            a_ij = A[i][j] \n",
    "            b_i0 = B[i]\n",
    "            sigma = sigma +  a_ij * (x[i] - x[j]) + b_i0 * (x[i] -leader.x)\n",
    "        u[i] = (-k) * sigma + v\n",
    "    return u"
   ]
  },
  {
   "cell_type": "code",
   "execution_count": 7,
   "metadata": {},
   "outputs": [
    {
     "data": {
      "text/plain": [
       "array([5.07170872, 0.08611247, 0.69722436, 0.50658682, 1.62571259,\n",
       "       1.83462312, 4.30277564, 3.80304227, 3.26623708, 2.80597694])"
      ]
     },
     "execution_count": 7,
     "metadata": {},
     "output_type": "execute_result"
    }
   ],
   "source": [
    "eig"
   ]
  },
  {
   "cell_type": "code",
   "execution_count": 8,
   "metadata": {},
   "outputs": [
    {
     "data": {
      "text/plain": [
       "7.741813035888467"
      ]
     },
     "execution_count": 8,
     "metadata": {},
     "output_type": "execute_result"
    }
   ],
   "source": [
    "k = 1 / (4* 0.5 * (1-0.5*0.5)*np.min(eig))\n",
    "k"
   ]
  },
  {
   "cell_type": "code",
   "execution_count": 16,
   "metadata": {},
   "outputs": [
    {
     "data": {
      "text/plain": [
       "[[-5], [-3], [-1], [1], [3], [5], [7], [9], [11], [13]]"
      ]
     },
     "execution_count": 16,
     "metadata": {},
     "output_type": "execute_result"
    }
   ],
   "source": [
    "[[i*2-5] for i in range(10)]"
   ]
  },
  {
   "cell_type": "code",
   "execution_count": 9,
   "metadata": {},
   "outputs": [],
   "source": [
    "k = 1 / (4* 0.5 * (1-0.5*0.5)*eig[0]) + 10\n",
    "\n",
    "i = 0\n",
    "time = 0\n",
    "T = 5 # 模拟时间\n",
    "t = [0.0]\n",
    "# 设置车辆的初始状态 leader\n",
    "leader = VehicleState(x=0, v=0.0)\n",
    "leader_x = [leader.x]\n",
    "leader_v = [leader.v]\n",
    "# 设置车辆的初始状态 follower\n",
    "followerList = [VehicleState(x = i*2-5,v=0) for i in range(10)]\n",
    "follower = [[followerList[i].x for i in range(10) ]]\n",
    "velocity = [[followerList[i].v for i in range(10) ]]\n",
    "#初始化加速度\n",
    "a = []\n",
    "for n in range(0,int(T/dt)+100):\n",
    "    if n<50:\n",
    "        a.append( 1 )\n",
    "    else:\n",
    "        a.append( 0 )\n",
    "#进行多轮迭代更新\n",
    "while T >= time :\n",
    "    \n",
    "    leader = update(leader,a[i])\n",
    "\n",
    "    v = controller(leader,followerList,k)\n",
    "    followerList = update_follower(followerList,v)\n",
    "\n",
    "    leader_x.append(leader.x)\n",
    "    leader_v.append(leader.v)\n",
    "    follower.append([followerList[j].x for j in range(10) ] )\n",
    "    velocity.append([followerList[j].v for j in range(10) ])\n",
    "    t.append(time)   \n",
    "    time = time + dt\n",
    "\n",
    "\n",
    "leader_x = np.array(leader_x)\n",
    "follower = np.array(follower)\n",
    "velocity = np.array(velocity)"
   ]
  },
  {
   "cell_type": "markdown",
   "metadata": {},
   "source": [
    "#### 画出位置变化"
   ]
  },
  {
   "cell_type": "code",
   "execution_count": 10,
   "metadata": {},
   "outputs": [
    {
     "data": {
      "text/plain": [
       "Text(0.5,1,'The iteration period is 10ms')"
      ]
     },
     "execution_count": 10,
     "metadata": {},
     "output_type": "execute_result"
    },
    {
     "data": {
      "image/png": "[encoded data removed]",
      "text/plain": [
       "<Figure size 720x432 with 1 Axes>"
      ]
     },
     "metadata": {
      "needs_background": "light"
     },
     "output_type": "display_data"
    }
   ],
   "source": [
    "plt.figure(figsize=(10,6))\n",
    "\n",
    "plt.plot(leader_x,\"-b\", label=\"trajectory\")\n",
    "for n in range(10):\n",
    "    plt.plot(follower[:,n])\n",
    "plt.xlabel('Iterations')             \n",
    "plt.ylabel('Position[m]')\n",
    "plt.title(\"The iteration period is 10ms\")"
   ]
  },
  {
   "cell_type": "code",
   "execution_count": 11,
   "metadata": {},
   "outputs": [
    {
     "data": {
      "image/png": "[encoded data removed]",
      "text/plain": [
       "<Figure size 720x432 with 1 Axes>"
      ]
     },
     "metadata": {
      "needs_background": "light"
     },
     "output_type": "display_data"
    }
   ],
   "source": [
    "plt.figure(figsize=(10,6))\n",
    "\n",
    "plt.plot(leader_v,\"-b\", label=\"trajectory\")\n",
    "for n in range(10):\n",
    "    plt.plot(velocity[:,n])\n"
   ]
  },
  {
   "cell_type": "markdown",
   "metadata": {},
   "source": [
    "#### 画出速度变化"
   ]
  },
  {
   "cell_type": "code",
   "execution_count": 12,
   "metadata": {
    "scrolled": true
   },
   "outputs": [
    {
     "data": {
      "text/plain": [
       "[<matplotlib.lines.Line2D at 0x1e42e888>]"
      ]
     },
     "execution_count": 12,
     "metadata": {},
     "output_type": "execute_result"
    },
    {
     "data": {
      "image/png": "[encoded data removed]",
      "text/plain": [
       "<Figure size 432x288 with 1 Axes>"
      ]
     },
     "metadata": {
      "needs_background": "light"
     },
     "output_type": "display_data"
    }
   ],
   "source": [
    "# plt.plot(leader_v,\"-b\", label=\"trajectory\")\n",
    "# plt.plot(follower[:,1], label=\"trajectory\")\n",
    "plt.plot(follower[3:,3], label=\"trajectory\")\n",
    "# plt.plot(follower[:,5], label=\"trajectory\")\n",
    "plt.plot(follower[3:,7], label=\"trajectory\")"
   ]
  },
  {
   "cell_type": "code",
   "execution_count": null,
   "metadata": {},
   "outputs": [],
   "source": []
  }
 ],
 "metadata": {
  "kernelspec": {
   "display_name": "Python 2",
   "language": "python",
   "name": "python2"
  },
  "language_info": {
   "codemirror_mode": {
    "name": "ipython",
    "version": 2
   },
   "file_extension": ".py",
   "mimetype": "text/x-python",
   "name": "python",
   "nbconvert_exporter": "python",
   "pygments_lexer": "ipython2",
   "version": "2.7.18"
  }
 },
 "nbformat": 4,
 "nbformat_minor": 2
}
