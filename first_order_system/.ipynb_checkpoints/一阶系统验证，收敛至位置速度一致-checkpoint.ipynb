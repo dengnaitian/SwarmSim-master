{
 "cells": [
  {
   "cell_type": "code",
   "execution_count": 1,
   "metadata": {},
   "outputs": [],
   "source": [
    "import numpy as np\n",
    "import math\n",
    "import matplotlib.pyplot as plt"
   ]
  },
  {
   "cell_type": "code",
   "execution_count": 3,
   "metadata": {},
   "outputs": [],
   "source": [
    "dt = 0.1\n",
    "class VehicleState:\n",
    "\n",
    "    def __init__(self, x=0.0, y=0.0, yaw=0.0, v=0.0):\n",
    "        self.x = x\n",
    "        self.v = v\n",
    "\n",
    "def update(state, a):\n",
    "    state.x = state.x + state.v * dt\n",
    "    \n",
    "    state.v = state.v + a * dt\n",
    "\n",
    "    return state"
   ]
  },
  {
   "cell_type": "code",
   "execution_count": 24,
   "metadata": {},
   "outputs": [],
   "source": [
    "time = 0\n",
    "T = 100 # 模拟时间\n",
    "# 设置车辆的出事状态\n",
    "state = VehicleState(x=-10.0, v=0.0)\n",
    "x = [state.x]\n",
    "v = [state.v]\n",
    "t = [0.0]\n",
    "#初始化加速度\n",
    "a = []\n",
    "for n in range(0,T):\n",
    "    if n<50:\n",
    "        a.append( 1 )\n",
    "    else:\n",
    "        a.append( 0 )\n",
    "\n"
   ]
  },
  {
   "cell_type": "code",
   "execution_count": null,
   "metadata": {},
   "outputs": [],
   "source": [
    "while T >= time :\n",
    "    \n",
    "    state = update(state,a[time])\n",
    "    time = time + dt\n",
    "    x.append(state.x)\n",
    "    y.append(state.y)\n",
    "    yaw.append(state.yaw)\n",
    "    v.append(state.v)\n",
    "    t.append(time)    "
   ]
  }
 ],
 "metadata": {
  "kernelspec": {
   "display_name": "Python 2",
   "language": "python",
   "name": "python2"
  },
  "language_info": {
   "codemirror_mode": {
    "name": "ipython",
    "version": 2
   },
   "file_extension": ".py",
   "mimetype": "text/x-python",
   "name": "python",
   "nbconvert_exporter": "python",
   "pygments_lexer": "ipython2",
   "version": "2.7.18"
  }
 },
 "nbformat": 4,
 "nbformat_minor": 2
}
